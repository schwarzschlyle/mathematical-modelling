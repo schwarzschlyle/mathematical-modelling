{
 "cells": [
  {
   "cell_type": "markdown",
   "id": "2abde95b",
   "metadata": {},
   "source": [
    "# Functions\n",
    "+ To group code lines that naturally belong together\n",
    "+ To parametrize a set of code lines such that they can be written only once and easily be re-executed with variations"
   ]
  },
  {
   "cell_type": "code",
   "execution_count": 2,
   "id": "a850f4a4",
   "metadata": {},
   "outputs": [],
   "source": [
    "def y(v0, t):\n",
    "    g = 9.81\n",
    "    return v0*t - 0.5*g*t**2"
   ]
  },
  {
   "cell_type": "code",
   "execution_count": 3,
   "id": "9251c8e3",
   "metadata": {},
   "outputs": [
    {
     "name": "stdout",
     "output_type": "stream",
     "text": [
      "1.2342\n",
      "0.5269499999999994\n"
     ]
    }
   ],
   "source": [
    "v0 = 5 # initial velocity\n",
    "\n",
    "time = 0.6\n",
    "print(y(v0, time))\n",
    "\n",
    "time = 0.9\n",
    "print(y(v0, time))\n"
   ]
  },
  {
   "cell_type": "markdown",
   "id": "620d279b",
   "metadata": {},
   "source": [
    "In general, the function can be defined as"
   ]
  },
  {
   "cell_type": "markdown",
   "id": "58f054ea",
   "metadata": {},
   "source": [
    "```<python>|\n",
    "def function_name(p1, p2, p3=default_3, ...):\n",
    "    \"\"\"This is a docstring\"\"\" # description of the function\n",
    "    code line\n",
    "    code line\n",
    "    ...\n",
    "    ...\n",
    "    return result_1, result_2, ...\n",
    " ```"
   ]
  },
  {
   "cell_type": "markdown",
   "id": "bc762837",
   "metadata": {},
   "source": [
    "Everything outside a function is considered to be in main program. Local variables inside a function can't be used as global variables outside a function. To set it as one,\n",
    "\n",
    "```<python>\n",
    "global x\n",
    "```\n"
   ]
  },
  {
   "cell_type": "markdown",
   "id": "76eb46b1",
   "metadata": {},
   "source": [
    "# Calling functions with positional parameters"
   ]
  },
  {
   "cell_type": "code",
   "execution_count": null,
   "id": "24e7d63c",
   "metadata": {},
   "outputs": [],
   "source": [
    "def y(v0, t)"
   ]
  }
 ],
 "metadata": {
  "kernelspec": {
   "display_name": "Python 3",
   "language": "python",
   "name": "python3"
  },
  "language_info": {
   "codemirror_mode": {
    "name": "ipython",
    "version": 3
   },
   "file_extension": ".py",
   "mimetype": "text/x-python",
   "name": "python",
   "nbconvert_exporter": "python",
   "pygments_lexer": "ipython3",
   "version": "3.8.8"
  }
 },
 "nbformat": 4,
 "nbformat_minor": 5
}
