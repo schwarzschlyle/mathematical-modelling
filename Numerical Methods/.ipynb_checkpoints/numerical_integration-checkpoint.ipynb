{
 "cells": [
  {
   "cell_type": "markdown",
   "id": "de740d36",
   "metadata": {},
   "source": [
    "# Trapozoidal Rule\n",
    "\n",
    "Key equation:\n",
    "\n",
    "$$\n",
    "I(a,b) = h\\left(\\frac{1}{2}f(a) + \\frac{1}{2}f(b) + \\sum_{k=1}^{N-1}f(a+kh)\\right)\n",
    "$$"
   ]
  },
  {
   "cell_type": "code",
   "execution_count": 24,
   "id": "8c2e47f0",
   "metadata": {},
   "outputs": [
    {
     "data": {
      "text/plain": [
       "4.50656"
      ]
     },
     "execution_count": 24,
     "metadata": {},
     "output_type": "execute_result"
    }
   ],
   "source": [
    "def g(x):\n",
    "    return x**4 - 2*x + 1\n",
    "\n",
    "def trap_integrate(f,N,a,b): # machine precision at 10e8\n",
    "    h = (b-a)/N \n",
    "    sum_part = 0\n",
    "    for k in range(1,N):\n",
    "        sum_part += f(a+k*h)\n",
    "    left_boundary = f(a)\n",
    "    right_boundary = f(b)\n",
    "    integral = h*(0.5*left_boundary + 0.5*right_boundary + sum_part)\n",
    "    return integral\n",
    "    \n",
    "trap_integrate(g, 10, 0.0, 2.0)"
   ]
  },
  {
   "cell_type": "markdown",
   "id": "4ed44682",
   "metadata": {},
   "source": [
    "# Simpson's Rule\n",
    "Key equation:\n",
    "\n",
    "$$\n",
    "I(a,b) = \\frac{1}{3}h\\left(f(a) + f(b) + 4\\sum_{1,\\text{odd}}^{N-1}f(a+kh) + 2\\sum_{2,\\text{even}}^Nf(a+kh)\\right)\n",
    "$$\n"
   ]
  },
  {
   "cell_type": "code",
   "execution_count": 26,
   "id": "19fd2117",
   "metadata": {},
   "outputs": [
    {
     "data": {
      "text/plain": [
       "4.400426666666667"
      ]
     },
     "execution_count": 26,
     "metadata": {},
     "output_type": "execute_result"
    }
   ],
   "source": [
    "def simpson_integrate(f,N,a,b): # machine precision at 10e4\n",
    "    h = (b-a)/N \n",
    "    odd_sum_part = 0\n",
    "    even_sum_part = 0\n",
    "    for k in range(1,N,2):\n",
    "        odd_sum_part += f(a+k*h)\n",
    "    for k in range(2,N-1,2):\n",
    "        even_sum_part += f(a+k*h)\n",
    "    left_boundary = f(a)\n",
    "    right_boundary = f(b)\n",
    "    integral = (1/3)*h*(left_boundary + right_boundary + 4*odd_sum_part + 2*even_sum_part)\n",
    "    return integral\n",
    "\n",
    "simpson_integrate(g,10, 0.0, 2.0)\n"
   ]
  },
  {
   "cell_type": "markdown",
   "id": "fe808625",
   "metadata": {},
   "source": [
    "# Adaptive Trapezoidal Method\n",
    "\n",
    "Key equations:\n",
    "\n",
    "$$\n",
    "I(a,b) = h\\left(\\frac{1}{2}f(a) + \\frac{1}{2}f(b) + \\sum_{k=1}^{N-1}f(a+kh)\\right)\n",
    "$$\n",
    "\n",
    "$$\n",
    "I_i=\\frac{1}{2}I_{i-1} + h_i\\sum_{k=1,\\text{odd}}^{N-1}f(a+kh)\n",
    "$$\n",
    "\n",
    "$$\n",
    "\\varepsilon_i = \\frac{1}{3}(I_i-I_{i-i})\n",
    "$$"
   ]
  },
  {
   "cell_type": "code",
   "execution_count": 42,
   "id": "c329b814",
   "metadata": {},
   "outputs": [],
   "source": [
    "def adap_trap_integrate(f,a,b,desired_error):\n",
    "    trap_error = 0\n",
    "    initial_integration = trap_integrate(f,10,a,b)\n",
    "    if desired_error > abs(trap_error):\n",
    "        N = 2*N\n",
    "        h = (b-a)/N \n",
    "        sum_part = 0\n",
    "        for k in range(1,N,2):\n",
    "            sum_part += f(a+k*h)\n",
    "        integral = (1/2)*initial_integration + h*sum_part\n",
    "        return integral\n",
    "        trap_error = (1/3)*(integral - initial_integration)\n",
    "        initial_integration = integral\n",
    "\n"
   ]
  },
  {
   "cell_type": "code",
   "execution_count": null,
   "id": "6723a085",
   "metadata": {},
   "outputs": [],
   "source": []
  }
 ],
 "metadata": {
  "kernelspec": {
   "display_name": "Python 3",
   "language": "python",
   "name": "python3"
  },
  "language_info": {
   "codemirror_mode": {
    "name": "ipython",
    "version": 3
   },
   "file_extension": ".py",
   "mimetype": "text/x-python",
   "name": "python",
   "nbconvert_exporter": "python",
   "pygments_lexer": "ipython3",
   "version": "3.8.8"
  }
 },
 "nbformat": 4,
 "nbformat_minor": 5
}
