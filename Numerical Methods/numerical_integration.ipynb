{
 "cells": [
  {
   "cell_type": "markdown",
   "id": "be206747",
   "metadata": {},
   "source": [
    "# Trapozoidal Rule\n",
    "\n",
    "To numerically evaluate an integral, we fit a trapezoid at the kth slice, find its area, and sum up all areas.\n",
    "\n",
    "Key equation:\n",
    "\n",
    "$$\n",
    "I(a,b) = h\\left(\\frac{1}{2}f(a) + \\frac{1}{2}f(b) + \\sum_{k=1}^{N-1}f(a+kh)\\right)\n",
    "$$"
   ]
  },
  {
   "cell_type": "code",
   "execution_count": 2,
   "id": "4b98bd13",
   "metadata": {},
   "outputs": [],
   "source": [
    "import numpy as np\n",
    "import matplotlib.pyplot as plt"
   ]
  },
  {
   "cell_type": "code",
   "execution_count": 3,
   "id": "6ef2a9fc",
   "metadata": {},
   "outputs": [
    {
     "data": {
      "text/plain": [
       "4.50656"
      ]
     },
     "execution_count": 3,
     "metadata": {},
     "output_type": "execute_result"
    }
   ],
   "source": [
    "def g(x):\n",
    "    return x**4 - 2*x + 1\n",
    "\n",
    "def trap_integrate(f,N,a,b): # machine precision at 10e8\n",
    "    \"\"\"Integrate a function via trapezoids interpolation\"\"\"\n",
    "    h = (b-a)/N \n",
    "    sum_part = 0\n",
    "    for k in range(1,N):\n",
    "        sum_part += f(a+k*h)\n",
    "    left_boundary = f(a)\n",
    "    right_boundary = f(b)\n",
    "    integral = h*(0.5*left_boundary + 0.5*right_boundary + sum_part)\n",
    "    return integral\n",
    "    \n",
    "trap_integrate(g, 10, 0.0, 2.0)"
   ]
  },
  {
   "cell_type": "markdown",
   "id": "bc1ab1e7",
   "metadata": {},
   "source": [
    "# Simpson's Rule\n",
    "\n",
    "We can also use a quadratic fitting for a smoother and more accurate integration.\n",
    "\n",
    "Key equation:\n",
    "\n",
    "$$\n",
    "I(a,b) = \\frac{1}{3}h\\left(f(a) + f(b) + 4\\sum_{1,\\text{odd}}^{N-1}f(a+kh) + 2\\sum_{2,\\text{even}}^Nf(a+kh)\\right)\n",
    "$$\n"
   ]
  },
  {
   "cell_type": "code",
   "execution_count": 4,
   "id": "bbec8774",
   "metadata": {},
   "outputs": [
    {
     "data": {
      "text/plain": [
       "4.400426666666667"
      ]
     },
     "execution_count": 4,
     "metadata": {},
     "output_type": "execute_result"
    }
   ],
   "source": [
    "def simpson_integrate(f,N,a,b): # machine precision at 10e4\n",
    "    \"\"\"Integrate a function via quadratic curve interpolation\"\"\"\n",
    "    h = (b-a)/N \n",
    "    odd_sum_part = 0\n",
    "    even_sum_part = 0\n",
    "    for k in range(1,N,2):\n",
    "        odd_sum_part += f(a+k*h)\n",
    "    for k in range(2,N-1,2):\n",
    "        even_sum_part += f(a+k*h)\n",
    "    left_boundary = f(a)\n",
    "    right_boundary = f(b)\n",
    "    integral = (1/3)*h*(left_boundary + right_boundary + 4*odd_sum_part + 2*even_sum_part)\n",
    "    return integral\n",
    "\n",
    "simpson_integrate(g,10, 0.0, 2.0)\n"
   ]
  },
  {
   "cell_type": "markdown",
   "id": "67f39c55",
   "metadata": {},
   "source": [
    "# Adaptive Trapezoidal Rule Method\n",
    "\n",
    "To properly budget errors, we use the following adaptive integration algorithm.\n",
    "\n",
    "Key equations:\n",
    "\n",
    "$$\n",
    "I(a,b) = h\\left(\\frac{1}{2}f(a) + \\frac{1}{2}f(b) + \\sum_{k=1}^{N-1}f(a+kh)\\right)\n",
    "$$\n",
    "\n",
    "$$\n",
    "I_i=\\frac{1}{2}I_{i-1} + h_i\\sum_{k=1,\\text{odd}}^{N-1}f(a+kh)\n",
    "$$\n",
    "\n",
    "$$\n",
    "\\varepsilon_i = \\frac{1}{3}(I_i-I_{i-i})\n",
    "$$"
   ]
  },
  {
   "cell_type": "code",
   "execution_count": 7,
   "id": "7db140ca",
   "metadata": {},
   "outputs": [
    {
     "name": "stdout",
     "output_type": "stream",
     "text": [
      "Total steps to reach desired error at 0.01 accuracy: 6 steps\n"
     ]
    },
    {
     "data": {
      "text/plain": [
       "4.402604103088379"
      ]
     },
     "execution_count": 7,
     "metadata": {},
     "output_type": "execute_result"
    }
   ],
   "source": [
    "def adap_trap_integrate(f,initial_steps,a,b,desired_error):\n",
    "    \"\"\"Trapezoidal rule budget counter\"\"\"\n",
    "    trap_error = 999 # initializations\n",
    "    integral = 0\n",
    "    N = initial_steps\n",
    "    step_counter = 0\n",
    "    initial_integration = trap_integrate(f,N,a,b)\n",
    "    while desired_error < abs(trap_error): # main loop: modify initial integral, then count error\n",
    "        N = 2*N\n",
    "        h = (b-a)/N \n",
    "        sum_part = 0\n",
    "        for k in range(1,N,2):\n",
    "            sum_part += f(a+k*h)\n",
    "        integral = (1/2)*initial_integration + h*sum_part\n",
    "        trap_error = (1/3)*(integral - initial_integration)\n",
    "        initial_integration = integral\n",
    "        step_counter += 1\n",
    "    print(\"Total steps to reach desired error at {} accuracy: {} steps\".format(desired_error,step_counter))\n",
    "    return integral\n",
    "\n",
    "adap_trap_integrate(g,1,0.0,2.0,0.01) # placeholder for 1 here indicates the start of erroneous digits\n"
   ]
  },
  {
   "cell_type": "markdown",
   "id": "11a35b05",
   "metadata": {},
   "source": [
    "#  Adaptive Simpson's Rule Method\n",
    "\n",
    "To properly budget errors, we use the following adaptive integration algorithm.\n",
    "\n",
    "Key equations:\n",
    "\n",
    "$$\n",
    "I(a,b) = \\frac{1}{3}h\\left(f(a) + f(b) + 4\\sum_{1,\\text{odd}}^{N-1}f(a+kh) + 2\\sum_{2,\\text{even}}^Nf(a+kh)\\right)\n",
    "$$\n",
    "\n",
    "$$\n",
    "I_i=h_i\\left(f(a) + f(b) +2 \\sum_{k=2, \\text{even}}^{N-2}f(a+kh_i)\\right)\n",
    "+\n",
    "\\frac{4}{3}\\sum_{k=1, \\text{odd}}^{N-1}f(a+kh_i)\n",
    "$$\n",
    "\n",
    "$$\n",
    "\\varepsilon_i = \\frac{1}{15}(I_i-I_{i-i})\n",
    "$$"
   ]
  },
  {
   "cell_type": "code",
   "execution_count": 21,
   "id": "2349e9ef",
   "metadata": {},
   "outputs": [
    {
     "name": "stdout",
     "output_type": "stream",
     "text": [
      "Total steps to reach desired error at 0.01 accuracy: 3 steps\n"
     ]
    },
    {
     "data": {
      "text/plain": [
       "4.401041666666666"
      ]
     },
     "execution_count": 21,
     "metadata": {},
     "output_type": "execute_result"
    }
   ],
   "source": [
    "def adap_simpson_integrate(f,initial_steps,a,b,desired_error):\n",
    "    \"\"\"Simpson's rule budget counter\"\"\"\n",
    "    simp_error = 999 # initializations\n",
    "    integral = 0\n",
    "    N = initial_steps\n",
    "    step_counter = 0\n",
    "    S = 0\n",
    "    T = 0\n",
    "    h = (b-a)/N\n",
    "    even_sum_part = 0\n",
    "    odd_sum_part = 0\n",
    "    for k in range(2,N-1,2):\n",
    "        even_sum_part += f(a+k*h)\n",
    "    for k in range(1,N,2):\n",
    "        odd_sum_part += f(a+k*h)\n",
    "    S = (1/3)*(f(a) + f(b) + 2*even_sum_part)\n",
    "    T = (2/3)*odd_sum_part\n",
    "    initial_integration = h*(S + 2*T)\n",
    "    while desired_error < (simp_error): # main loop: modify initial integral, then count error\n",
    "        N = 2*N\n",
    "        h = (b-a)/N\n",
    "        S = S + T\n",
    "        odd_sum_part = 0\n",
    "        for k in range(1,N,2):\n",
    "            odd_sum_part += f(a+k*h)\n",
    "        T = (2/3)*odd_sum_part\n",
    "        integral = h*(S + 2*T)\n",
    "        simp_error = abs((1/15)*(integral - initial_integration))\n",
    "        initial_integration = integral\n",
    "        step_counter += 1\n",
    "    print(\"Total steps to reach desired error at {} accuracy: {} steps\".format(desired_error,step_counter))\n",
    "    return integral\n",
    "\n",
    "    \n",
    "adap_simpson_integrate(g,1,0.0,2.0,0.01) # placeholder for 1 here indicates the start of erroneous digits"
   ]
  },
  {
   "cell_type": "code",
   "execution_count": null,
   "id": "a3fa9686",
   "metadata": {},
   "outputs": [],
   "source": []
  }
 ],
 "metadata": {
  "kernelspec": {
   "display_name": "Python 3",
   "language": "python",
   "name": "python3"
  },
  "language_info": {
   "codemirror_mode": {
    "name": "ipython",
    "version": 3
   },
   "file_extension": ".py",
   "mimetype": "text/x-python",
   "name": "python",
   "nbconvert_exporter": "python",
   "pygments_lexer": "ipython3",
   "version": "3.8.8"
  }
 },
 "nbformat": 4,
 "nbformat_minor": 5
}
