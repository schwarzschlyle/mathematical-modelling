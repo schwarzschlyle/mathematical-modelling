{
 "cells": [
  {
   "cell_type": "markdown",
   "id": "7e68966c",
   "metadata": {},
   "source": [
    "# Numerical Methods"
   ]
  },
  {
   "cell_type": "code",
   "execution_count": 5,
   "id": "cc4a7484",
   "metadata": {},
   "outputs": [],
   "source": [
    "def f(x): # Trial function\n",
    "    return x**4 - 2*x + 1"
   ]
  },
  {
   "cell_type": "code",
   "execution_count": 1,
   "id": "c8e9f0e1",
   "metadata": {},
   "outputs": [],
   "source": [
    "def trap_integrate(f,N,a,b): # machine precision at 10e8\n",
    "    \"\"\"Integrate a function via trapezoids interpolation\"\"\"\n",
    "    h = (b-a)/N \n",
    "    sum_part = 0\n",
    "    for k in range(1,N):\n",
    "        sum_part += f(a+k*h)\n",
    "    left_boundary = f(a)\n",
    "    right_boundary = f(b)\n",
    "    integral = h*(0.5*left_boundary + 0.5*right_boundary + sum_part)\n",
    "    return integral\n",
    "\n",
    "def simpson_integrate(f,N,a,b): # machine precision at 10e4\n",
    "    \"\"\"Integrate a function via quadratic curve interpolation\"\"\"\n",
    "    h = (b-a)/N \n",
    "    odd_sum_part = 0\n",
    "    even_sum_part = 0\n",
    "    for k in range(1,N,2):\n",
    "        odd_sum_part += f(a+k*h)\n",
    "    for k in range(2,N-1,2):\n",
    "        even_sum_part += f(a+k*h)\n",
    "    left_boundary = f(a)\n",
    "    right_boundary = f(b)\n",
    "    integral = (1/3)*h*(left_boundary + right_boundary + 4*odd_sum_part + 2*even_sum_part)\n",
    "    return integral\n",
    "\n",
    "def adap_trap_integrate(f,initial_steps,a,b,desired_error):\n",
    "    \"\"\"Trapezoidal rule budget counter\"\"\"\n",
    "    trap_error = 999 # initializations\n",
    "    integral = 0\n",
    "    N = initial_steps\n",
    "    step_counter = 0\n",
    "    initial_integration = trap_integrate(f,N,a,b)\n",
    "    while desired_error < abs(trap_error): # main loop: modify initial integral, then count error\n",
    "        N = 2*N\n",
    "        h = (b-a)/N \n",
    "        sum_part = 0\n",
    "        for k in range(1,N,2):\n",
    "            sum_part += f(a+k*h)\n",
    "        integral = (1/2)*initial_integration + h*sum_part\n",
    "        trap_error = (1/3)*(integral - initial_integration)\n",
    "        initial_integration = integral\n",
    "        step_counter += 1\n",
    "    print(\"Total steps to reach desired error at {} accuracy: {} steps\".format(desired_error,step_counter))\n",
    "    return integral\n",
    "\n",
    "\n",
    "def adap_simpson_integrate(f,initial_steps,a,b,desired_error):\n",
    "    \"\"\"Simpson's rule budget counter\"\"\"\n",
    "    simp_error = 999 # initializations\n",
    "    integral = 0\n",
    "    N = initial_steps\n",
    "    step_counter = 0\n",
    "    S = 0\n",
    "    T = 0\n",
    "    h = (b-a)/N\n",
    "    even_sum_part = 0\n",
    "    odd_sum_part = 0\n",
    "    for k in range(2,N-1,2):\n",
    "        even_sum_part += f(a+k*h)\n",
    "    for k in range(1,N,2):\n",
    "        odd_sum_part += f(a+k*h)\n",
    "    S = (1/3)*(f(a) + f(b) + 2*even_sum_part)\n",
    "    T = (2/3)*odd_sum_part\n",
    "    initial_integration = h*(S + 2*T)\n",
    "    while desired_error < (simp_error): # main loop: modify initial integral, then count error\n",
    "        N = 2*N\n",
    "        h = (b-a)/N\n",
    "        S = S + T\n",
    "        odd_sum_part = 0\n",
    "        for k in range(1,N,2):\n",
    "            odd_sum_part += f(a+k*h)\n",
    "        T = (2/3)*odd_sum_part\n",
    "        integral = h*(S + 2*T)\n",
    "        simp_error = abs((1/15)*(integral - initial_integration))\n",
    "        initial_integration = integral\n",
    "        step_counter += 1\n",
    "    print(\"Total steps to reach desired error at {} accuracy: {} steps\".format(desired_error,step_counter))\n",
    "    return integral"
   ]
  },
  {
   "cell_type": "code",
   "execution_count": null,
   "id": "ab548d73",
   "metadata": {},
   "outputs": [],
   "source": []
  }
 ],
 "metadata": {
  "kernelspec": {
   "display_name": "Python 3",
   "language": "python",
   "name": "python3"
  },
  "language_info": {
   "codemirror_mode": {
    "name": "ipython",
    "version": 3
   },
   "file_extension": ".py",
   "mimetype": "text/x-python",
   "name": "python",
   "nbconvert_exporter": "python",
   "pygments_lexer": "ipython3",
   "version": "3.8.8"
  }
 },
 "nbformat": 4,
 "nbformat_minor": 5
}
