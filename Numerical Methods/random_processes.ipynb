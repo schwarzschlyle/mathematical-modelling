{
 "cells": [
  {
   "cell_type": "code",
   "execution_count": 4,
   "id": "fa758577",
   "metadata": {},
   "outputs": [],
   "source": [
    "from pylab import plot,show"
   ]
  },
  {
   "cell_type": "code",
   "execution_count": 7,
   "id": "a23df0da",
   "metadata": {},
   "outputs": [
    {
     "data": {
      "image/png": "[encoded data removed]",
      "text/plain": [
       "<Figure size 432x288 with 1 Axes>"
      ]
     },
     "metadata": {
      "needs_background": "light"
     },
     "output_type": "display_data"
    }
   ],
   "source": [
    "# linear congruential RNG\n",
    "N = 100\n",
    "a = 1664525\n",
    "c = 1013904223\n",
    "m = 4294967296\n",
    "x = 1\n",
    "results = []\n",
    "\n",
    "for i in range(N):\n",
    "    x = (a*x+c)%m\n",
    "    results.append(x)\n",
    "plot(results, \"o\")\n",
    "show()"
   ]
  },
  {
   "cell_type": "code",
   "execution_count": 12,
   "id": "549c43e5",
   "metadata": {},
   "outputs": [
    {
     "name": "stdout",
     "output_type": "stream",
     "text": [
      "1\n",
      "0\n",
      "4\n",
      "3\n"
     ]
    }
   ],
   "source": [
    "# Mersenne twister genertor seeding\n",
    "\n",
    "from random import randrange,seed\n",
    "seed(42)\n",
    "for i in range(4):\n",
    "    print(randrange(10))"
   ]
  },
  {
   "cell_type": "code",
   "execution_count": 17,
   "id": "90d877eb",
   "metadata": {},
   "outputs": [
    {
     "name": "stdout",
     "output_type": "stream",
     "text": [
      "Heads\n"
     ]
    }
   ],
   "source": [
    "# biased coin\n",
    "\n",
    "from random import random\n",
    "\n",
    "if random()<0.2:\n",
    "    print(\"Heads\")\n",
    "else:\n",
    "    print(\"Tails\")"
   ]
  },
  {
   "cell_type": "code",
   "execution_count": 21,
   "id": "12d0e94b",
   "metadata": {},
   "outputs": [
    {
     "name": "stdout",
     "output_type": "stream",
     "text": [
      "1.4524\n"
     ]
    }
   ],
   "source": [
    "# monte carlo integration\n",
    "\n",
    "from math import sin\n",
    "from random import random\n",
    "\n",
    "def f(x):\n",
    "    return (sin(1/(x*(2-x))))**2\n",
    "\n",
    "A = 2\n",
    "N = 10000\n",
    "count = 0\n",
    "for i in range(N):\n",
    "    x = 2*random()\n",
    "    y = random()\n",
    "    if y<f(x):\n",
    "        count += 1\n",
    "\n",
    "I = A*count/N\n",
    "print(I)"
   ]
  },
  {
   "cell_type": "code",
   "execution_count": null,
   "id": "dcd0a115",
   "metadata": {},
   "outputs": [],
   "source": []
  }
 ],
 "metadata": {
  "kernelspec": {
   "display_name": "Python 3",
   "language": "python",
   "name": "python3"
  },
  "language_info": {
   "codemirror_mode": {
    "name": "ipython",
    "version": 3
   },
   "file_extension": ".py",
   "mimetype": "text/x-python",
   "name": "python",
   "nbconvert_exporter": "python",
   "pygments_lexer": "ipython3",
   "version": "3.8.8"
  }
 },
 "nbformat": 4,
 "nbformat_minor": 5
}
