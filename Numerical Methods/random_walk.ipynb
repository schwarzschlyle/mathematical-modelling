{
 "cells": [
  {
   "cell_type": "code",
   "execution_count": 3,
   "id": "a64790e7",
   "metadata": {},
   "outputs": [],
   "source": [
    "import random\n",
    "\n",
    "def random_walk(n):\n",
    "    \"\"\"Return coordinates after 'n' block random walk.\"\"\"\n",
    "    x = 0\n",
    "    y = 0\n",
    "    for i in range(n):\n",
    "        step = random.choice(['N', 'S', 'E', 'W'])\n",
    "        if step == 'N':\n",
    "            y = y + 1\n",
    "        elif step == 'S':\n",
    "            y = y - 1\n",
    "        elif step == 'E':\n",
    "            x = x + 1\n",
    "        else:\n",
    "            x = x - 1\n",
    "    return (x,y)"
   ]
  },
  {
   "cell_type": "code",
   "execution_count": 4,
   "id": "e5cc8d75",
   "metadata": {},
   "outputs": [
    {
     "name": "stdout",
     "output_type": "stream",
     "text": [
      "(-3, 1) Distance from home  4\n",
      "(0, 0) Distance from home  0\n",
      "(3, 3) Distance from home  6\n",
      "(2, 6) Distance from home  8\n",
      "(3, -3) Distance from home  6\n",
      "(-1, -1) Distance from home  2\n",
      "(-2, 2) Distance from home  4\n",
      "(4, 0) Distance from home  4\n",
      "(3, 1) Distance from home  4\n",
      "(4, -2) Distance from home  6\n",
      "(-2, 0) Distance from home  2\n",
      "(0, 0) Distance from home  0\n",
      "(-1, -1) Distance from home  2\n",
      "(5, -3) Distance from home  8\n",
      "(-4, 0) Distance from home  4\n",
      "(2, 0) Distance from home  2\n",
      "(0, 2) Distance from home  2\n",
      "(-3, 1) Distance from home  4\n",
      "(1, 1) Distance from home  2\n",
      "(1, -1) Distance from home  2\n",
      "(-3, 1) Distance from home  4\n",
      "(-1, -1) Distance from home  2\n",
      "(1, 1) Distance from home  2\n",
      "(2, 0) Distance from home  2\n",
      "(-1, 1) Distance from home  2\n"
     ]
    }
   ],
   "source": [
    "for i in range(25):\n",
    "    walk = random_walk(10)\n",
    "    print(walk, 'Distance from home ',\n",
    "          abs(walk[0]) + abs(walk[1]))"
   ]
  },
  {
   "cell_type": "code",
   "execution_count": 6,
   "id": "ef8f67a0",
   "metadata": {},
   "outputs": [],
   "source": [
    "def random_walk_2(n):\n",
    "    \"\"\"Return coordinates after 'n' block random walk.\"\"\"\n",
    "    x , y = 0, 0\n",
    "    for i in range(n):\n",
    "        (dx, dy) = random.choice([(0,1), (0,-1), (1,0), (-1,0)])\n",
    "        x += dx\n",
    "        y += dy\n",
    "    return (x,y)"
   ]
  },
  {
   "cell_type": "code",
   "execution_count": 7,
   "id": "3f65cbe4",
   "metadata": {},
   "outputs": [
    {
     "name": "stdout",
     "output_type": "stream",
     "text": [
      "(-1, 1) Distance from home  2\n",
      "(5, -1) Distance from home  6\n",
      "(-3, 3) Distance from home  6\n",
      "(1, 1) Distance from home  2\n",
      "(-2, 2) Distance from home  4\n",
      "(5, 1) Distance from home  6\n",
      "(5, -1) Distance from home  6\n",
      "(-1, 1) Distance from home  2\n",
      "(-5, 3) Distance from home  8\n",
      "(-2, 0) Distance from home  2\n",
      "(-2, -2) Distance from home  4\n",
      "(0, 0) Distance from home  0\n",
      "(-1, -1) Distance from home  2\n",
      "(1, 1) Distance from home  2\n",
      "(-3, 1) Distance from home  4\n",
      "(0, 2) Distance from home  2\n",
      "(4, 2) Distance from home  6\n",
      "(-1, 3) Distance from home  4\n",
      "(-1, 1) Distance from home  2\n",
      "(-2, 2) Distance from home  4\n",
      "(3, -1) Distance from home  4\n",
      "(3, 3) Distance from home  6\n",
      "(0, -2) Distance from home  2\n",
      "(-2, 4) Distance from home  6\n",
      "(2, 2) Distance from home  4\n"
     ]
    }
   ],
   "source": [
    "for i in range(25):\n",
    "    walk = random_walk_2(10)\n",
    "    print(walk, 'Distance from home ',\n",
    "          abs(walk[0]) + abs(walk[1]))"
   ]
  },
  {
   "cell_type": "code",
   "execution_count": 13,
   "id": "bda02b51",
   "metadata": {},
   "outputs": [
    {
     "name": "stdout",
     "output_type": "stream",
     "text": [
      "Walk size =  1 / % of no transport =  100.0\n",
      "Walk size =  2 / % of no transport =  100.0\n",
      "Walk size =  3 / % of no transport =  100.0\n",
      "Walk size =  4 / % of no transport =  100.0\n",
      "Walk size =  5 / % of no transport =  88.19\n",
      "Walk size =  6 / % of no transport =  94.0\n",
      "Walk size =  7 / % of no transport =  76.95\n",
      "Walk size =  8 / % of no transport =  85.83\n",
      "Walk size =  9 / % of no transport =  67.75999999999999\n",
      "Walk size =  10 / % of no transport =  79.14999999999999\n",
      "Walk size =  11 / % of no transport =  59.69\n",
      "Walk size =  12 / % of no transport =  73.35000000000001\n",
      "Walk size =  13 / % of no transport =  53.25\n",
      "Walk size =  14 / % of no transport =  67.60000000000001\n",
      "Walk size =  15 / % of no transport =  48.44\n",
      "Walk size =  16 / % of no transport =  61.650000000000006\n",
      "Walk size =  17 / % of no transport =  45.050000000000004\n",
      "Walk size =  18 / % of no transport =  58.050000000000004\n",
      "Walk size =  19 / % of no transport =  41.0\n",
      "Walk size =  20 / % of no transport =  53.410000000000004\n",
      "Walk size =  21 / % of no transport =  38.23\n",
      "Walk size =  22 / % of no transport =  50.5\n",
      "Walk size =  23 / % of no transport =  35.65\n",
      "Walk size =  24 / % of no transport =  48.94\n",
      "Walk size =  25 / % of no transport =  33.51\n",
      "Walk size =  26 / % of no transport =  44.800000000000004\n",
      "Walk size =  27 / % of no transport =  30.29\n",
      "Walk size =  28 / % of no transport =  43.07\n",
      "Walk size =  29 / % of no transport =  28.89\n",
      "Walk size =  30 / % of no transport =  40.589999999999996\n"
     ]
    }
   ],
   "source": [
    "number_of_walks = 10000\n",
    "\n",
    "for walk_length in range(1,31):\n",
    "    no_transport = 0 # number of walks <4 from home\n",
    "    for i in range(number_of_walks):\n",
    "        (x,y) = random_walk_2(walk_length)\n",
    "        distance = abs(x) + abs(y)\n",
    "        if distance <= 4:\n",
    "            no_transport += 1\n",
    "    no_transport_percentage = float(no_transport) / number_of_walks\n",
    "    print(\"Walk size = \", walk_length, \"/ % of no transport = \", \n",
    "              100*no_transport_percentage)\n",
    "        "
   ]
  }
 ],
 "metadata": {
  "kernelspec": {
   "display_name": "Python 3",
   "language": "python",
   "name": "python3"
  },
  "language_info": {
   "codemirror_mode": {
    "name": "ipython",
    "version": 3
   },
   "file_extension": ".py",
   "mimetype": "text/x-python",
   "name": "python",
   "nbconvert_exporter": "python",
   "pygments_lexer": "ipython3",
   "version": "3.8.8"
  }
 },
 "nbformat": 4,
 "nbformat_minor": 5
}
